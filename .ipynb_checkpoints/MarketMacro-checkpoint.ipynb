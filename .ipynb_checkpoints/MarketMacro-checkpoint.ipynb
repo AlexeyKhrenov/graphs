{
 "cells": [
  {
   "cell_type": "code",
   "execution_count": 7,
   "id": "efficient-introduction",
   "metadata": {},
   "outputs": [],
   "source": [
    "%run Agents.ipynb\n",
    "class MarketMacro: \n",
    "    def CalculateAveragePrice(graph):\n",
    "        priceVector = { i.name : [] for i in ProductType }\n",
    "        for source, target, data in graph.edges(data=True):\n",
    "            arr = priceVector[source.ProductType.name]\n",
    "            arr.append(data['price'])\n",
    "            \n",
    "        for i in ProductType:\n",
    "            priceVector[i.name] = sum(priceVector[i.name]) / len(priceVector[i.name])\n",
    "            \n",
    "        return priceVector"
   ]
  },
  {
   "cell_type": "code",
   "execution_count": null,
   "id": "centered-match",
   "metadata": {},
   "outputs": [],
   "source": []
  }
 ],
 "metadata": {
  "kernelspec": {
   "display_name": "Python 3",
   "language": "python",
   "name": "python3"
  },
  "language_info": {
   "codemirror_mode": {
    "name": "ipython",
    "version": 3
   },
   "file_extension": ".py",
   "mimetype": "text/x-python",
   "name": "python",
   "nbconvert_exporter": "python",
   "pygments_lexer": "ipython3",
   "version": "3.8.5"
  }
 },
 "nbformat": 4,
 "nbformat_minor": 5
}
