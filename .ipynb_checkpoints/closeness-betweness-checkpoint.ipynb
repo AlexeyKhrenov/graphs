{
 "cells": [
  {
   "cell_type": "code",
   "execution_count": 31,
   "id": "impressive-gnome",
   "metadata": {},
   "outputs": [],
   "source": [
    "import networkx as nx\n",
    "import operator\n",
    "G = nx.read_weighted_edgelist(\"centralitiesgraph.txt\", nodetype=int)"
   ]
  },
  {
   "cell_type": "code",
   "execution_count": 34,
   "id": "illegal-particle",
   "metadata": {},
   "outputs": [
    {
     "data": {
      "text/plain": [
       "784"
      ]
     },
     "execution_count": 34,
     "metadata": {},
     "output_type": "execute_result"
    }
   ],
   "source": [
    "betweeness = nx.betweenness_centrality(G, normalized=False, weight='weight')\n",
    "max(betweeness.items(), key=operator.itemgetter(1))[0]"
   ]
  },
  {
   "cell_type": "code",
   "execution_count": 37,
   "id": "figured-links",
   "metadata": {},
   "outputs": [
    {
     "data": {
      "text/plain": [
       "878"
      ]
     },
     "execution_count": 37,
     "metadata": {},
     "output_type": "execute_result"
    }
   ],
   "source": [
    "closeness = nx.closeness_centrality(G, distance='weight')\n",
    "max(closeness.items(), key=operator.itemgetter(1))[0]"
   ]
  },
  {
   "cell_type": "code",
   "execution_count": null,
   "id": "lucky-egypt",
   "metadata": {},
   "outputs": [],
   "source": []
  }
 ],
 "metadata": {
  "kernelspec": {
   "display_name": "Python 3",
   "language": "python",
   "name": "python3"
  },
  "language_info": {
   "codemirror_mode": {
    "name": "ipython",
    "version": 3
   },
   "file_extension": ".py",
   "mimetype": "text/x-python",
   "name": "python",
   "nbconvert_exporter": "python",
   "pygments_lexer": "ipython3",
   "version": "3.8.5"
  }
 },
 "nbformat": 4,
 "nbformat_minor": 5
}
