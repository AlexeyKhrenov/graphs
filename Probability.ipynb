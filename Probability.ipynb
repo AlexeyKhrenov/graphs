{
 "cells": [
  {
   "cell_type": "code",
   "execution_count": 5,
   "id": "attached-sharp",
   "metadata": {},
   "outputs": [],
   "source": [
    "import random\n",
    "\n",
    "class Probability:\n",
    "    def __init__(self, value):\n",
    "        self.Value = value\n",
    "        \n",
    "    def TryLuck(self):\n",
    "        return self.Value > random.uniform(0, 1)\n"
   ]
  },
  {
   "cell_type": "code",
   "execution_count": 7,
   "id": "pregnant-fundamentals",
   "metadata": {
    "scrolled": true
   },
   "outputs": [
    {
     "name": "stdout",
     "output_type": "stream",
     "text": [
      "True\n",
      "True\n",
      "True\n",
      "False\n",
      "True\n",
      "True\n",
      "True\n",
      "False\n",
      "True\n",
      "False\n"
     ]
    }
   ],
   "source": []
  }
 ],
 "metadata": {
  "kernelspec": {
   "display_name": "Python 3",
   "language": "python",
   "name": "python3"
  },
  "language_info": {
   "codemirror_mode": {
    "name": "ipython",
    "version": 3
   },
   "file_extension": ".py",
   "mimetype": "text/x-python",
   "name": "python",
   "nbconvert_exporter": "python",
   "pygments_lexer": "ipython3",
   "version": "3.8.5"
  }
 },
 "nbformat": 4,
 "nbformat_minor": 5
}
