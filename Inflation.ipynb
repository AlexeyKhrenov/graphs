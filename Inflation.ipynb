{
 "cells": [
  {
   "cell_type": "code",
   "execution_count": 1,
   "id": "divided-columbus",
   "metadata": {},
   "outputs": [],
   "source": [
    "import random\n",
    "\n",
    "class Inflation:\n",
    "    def DeployInflationToRandomNode(graph, price):\n",
    "        nodes = list(graph.edges(data=True))\n",
    "        node = random.choice(nodes)\n",
    "        node[2]['price'] = price"
   ]
  },
  {
   "cell_type": "code",
   "execution_count": null,
   "id": "animal-belly",
   "metadata": {},
   "outputs": [],
   "source": []
  }
 ],
 "metadata": {
  "kernelspec": {
   "display_name": "Python 3",
   "language": "python",
   "name": "python3"
  },
  "language_info": {
   "codemirror_mode": {
    "name": "ipython",
    "version": 3
   },
   "file_extension": ".py",
   "mimetype": "text/x-python",
   "name": "python",
   "nbconvert_exporter": "python",
   "pygments_lexer": "ipython3",
   "version": "3.8.5"
  }
 },
 "nbformat": 4,
 "nbformat_minor": 5
}
