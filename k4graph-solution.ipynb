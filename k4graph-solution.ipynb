{
 "cells": [
  {
   "cell_type": "code",
   "execution_count": 1,
   "id": "sized-profession",
   "metadata": {},
   "outputs": [],
   "source": [
    "import networkx as nx"
   ]
  },
  {
   "cell_type": "code",
   "execution_count": 2,
   "id": "taken-lawyer",
   "metadata": {},
   "outputs": [],
   "source": [
    "G = nx.read_edgelist(\"k4graphs.txt\")"
   ]
  },
  {
   "cell_type": "code",
   "execution_count": 4,
   "id": "federal-first",
   "metadata": {},
   "outputs": [],
   "source": [
    "def enumerate_all_cliques_size_k(G, k):\n",
    "    i = 0\n",
    "    for clique in nx.enumerate_all_cliques(G):\n",
    "        if len(clique) == k:\n",
    "            i += 1\n",
    "        elif len(clique) > k:\n",
    "            return i\n",
    "    return i"
   ]
  },
  {
   "cell_type": "code",
   "execution_count": 5,
   "id": "compliant-environment",
   "metadata": {},
   "outputs": [],
   "source": [
    "i = enumerate_all_cliques_size_k(G, 4)"
   ]
  },
  {
   "cell_type": "code",
   "execution_count": 6,
   "id": "compliant-operations",
   "metadata": {},
   "outputs": [
    {
     "name": "stdout",
     "output_type": "stream",
     "text": [
      "44\n"
     ]
    }
   ],
   "source": [
    "print(i)"
   ]
  },
  {
   "cell_type": "code",
   "execution_count": null,
   "id": "chinese-madonna",
   "metadata": {},
   "outputs": [],
   "source": []
  }
 ],
 "metadata": {
  "kernelspec": {
   "display_name": "Python 3",
   "language": "python",
   "name": "python3"
  },
  "language_info": {
   "codemirror_mode": {
    "name": "ipython",
    "version": 3
   },
   "file_extension": ".py",
   "mimetype": "text/x-python",
   "name": "python",
   "nbconvert_exporter": "python",
   "pygments_lexer": "ipython3",
   "version": "3.8.5"
  }
 },
 "nbformat": 4,
 "nbformat_minor": 5
}
