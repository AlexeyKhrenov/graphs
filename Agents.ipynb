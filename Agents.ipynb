{
 "cells": [
  {
   "cell_type": "code",
   "execution_count": 12,
   "id": "major-plumbing",
   "metadata": {},
   "outputs": [],
   "source": [
    "from enum import Enum\n",
    "import random\n",
    "\n",
    "class ProductType(Enum):\n",
    "    Squares = 1\n",
    "    Triangles = 2\n",
    "    Circles = 3\n",
    "    Stars = 4\n",
    "    \n",
    "    def IsProducedFrom(a, b):\n",
    "        return (a.value - b.value) % 4 == 1\n",
    "    \n",
    "ProductTypeColor = {\n",
    "            ProductType.Squares: '#8B0000',\n",
    "            ProductType.Triangles: '#0000FF',\n",
    "            ProductType.Circles: '#FFA500',\n",
    "            ProductType.Stars: '#008000'\n",
    "    }\n",
    "    \n",
    "class AgentBase:\n",
    "    productTypes = list(ProductType)\n",
    "    \n",
    "    Price = 1\n",
    "    Production = 10\n",
    "    \n",
    "    def __init__(self, productType):\n",
    "        self.ProductType = productType\n",
    "        \n",
    "    def CreateRandom():\n",
    "        productType = random.choice(AgentBase.productTypes)\n",
    "        return AgentBase(productType)\n",
    "\n",
    "    def AddConsumers(self, consumers):\n",
    "        self.Consumers = consumers\n",
    "        \n",
    "    def ProbabilityFunc(price):\n",
    "        return price - 1;\n",
    "        \n",
    "    def CalculatePrice(self):\n",
    "        if self.Consumers is None:\n",
    "            return\n",
    "        \n",
    "        if self.Consumers.len() == 0:\n",
    "            return\n",
    "        \n",
    "        self.Consumers.sort(key=lambda x: x.Price)\n",
    "        nextPrice = price\n",
    "        while()\n",
    "        "
   ]
  },
  {
   "cell_type": "code",
   "execution_count": 11,
   "id": "animal-sunday",
   "metadata": {},
   "outputs": [
    {
     "name": "stdout",
     "output_type": "stream",
     "text": [
      "4\n"
     ]
    }
   ],
   "source": []
  },
  {
   "cell_type": "code",
   "execution_count": null,
   "id": "eligible-blanket",
   "metadata": {},
   "outputs": [],
   "source": []
  }
 ],
 "metadata": {
  "kernelspec": {
   "display_name": "Python 3",
   "language": "python",
   "name": "python3"
  },
  "language_info": {
   "codemirror_mode": {
    "name": "ipython",
    "version": 3
   },
   "file_extension": ".py",
   "mimetype": "text/x-python",
   "name": "python",
   "nbconvert_exporter": "python",
   "pygments_lexer": "ipython3",
   "version": "3.8.5"
  }
 },
 "nbformat": 4,
 "nbformat_minor": 5
}
